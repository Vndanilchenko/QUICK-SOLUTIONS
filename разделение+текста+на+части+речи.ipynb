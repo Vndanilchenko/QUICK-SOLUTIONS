{
 "cells": [
  {
   "cell_type": "markdown",
   "metadata": {},
   "source": [
    "# ПРЕОБРАЗОВАНИЕ ТЕКСТА В ДАТАФРЕЙМ УНИКАЛЬНЫХ СЛОВ И РАЗДЕЛЕНИЕ НА ЧАСТИ РЕЧИ"
   ]
  },
  {
   "cell_type": "code",
   "execution_count": null,
   "metadata": {
    "collapsed": true
   },
   "outputs": [],
   "source": [
    "# преобразует комментарии в датафрейм уникальных слов с количеством повторений в тексте\n",
    "class text_to_dict:\n",
    "    import re\n",
    "    \n",
    "    # приведем к нижнему регистру, избавимся от символов, знаков препинания, \n",
    "    def preprocess_text(text):\n",
    "        text = text.lower().replace(\"ё\", \"е\")\n",
    "        text = re.sub('((www\\.[^\\s]+)|(https?://[^\\s]+))', 'URL', text)\n",
    "        text = re.sub('@[^\\s]+', 'USER', text)\n",
    "        text = re.sub('[^a-zA-Zа-яА-Я1-9]+', ' ', text)\n",
    "        text = re.sub(' +', ' ', text)\n",
    "        text = re.sub(r'[^\\w\\s]+|[\\d]+', ' ',text)\n",
    "        return text.strip()\n",
    "\n",
    "    # !pip install pymorphy2\n",
    "    import pymorphy2\n",
    "\n",
    "    # уберем междометия, частицы, союзы, предлоги, местоимения\n",
    "    def pos(word, morth=pymorphy2.MorphAnalyzer()):\n",
    "        return morth.parse(word)[0].tag.POS\n",
    "\n",
    "    # приведем слова в начальную форму\n",
    "    def normal_form(word, morth=pymorphy2.MorphAnalyzer()):\n",
    "        return morth.parse(word)[0].normal_form\n",
    "\n",
    "    # основная функция - вызывает остальные, составляет словарь уникальных слов, счиатет частоту и возвращает DataFrame\n",
    "    def init(text):\n",
    "        data = [preprocess_text(t) for t in text]\n",
    "        functors_pos = {'INTJ', 'PRCL', 'CONJ', 'PREP', 'NPRO'} \n",
    "        sentence_out=[]\n",
    "        data_out=[]\n",
    "        i=0\n",
    "        for sentence in data:\n",
    "            for word in sentence.split():\n",
    "                if pos(word) not in functors_pos:\n",
    "                    data_out.append(normal_form(word))\n",
    "\n",
    "        # составим словарь уникальных слов в тексте\n",
    "        words=sorted(set(data_out))\n",
    "        words_dict={}\n",
    "        for word in words:\n",
    "            words_dict.setdefault(word, 0)\n",
    "\n",
    "        # посчитаем частоту\n",
    "        for word in data_out:\n",
    "            words_dict[word]+=1\n",
    "\n",
    "        return pd.DataFrame(sorted(words_dict.items(), key=lambda x: (x[1],x[0]), reverse=True), columns=['слово', 'количество'])"
   ]
  }
 ],
 "metadata": {
  "kernelspec": {
   "display_name": "Python [conda env:py36]",
   "language": "python",
   "name": "conda-env-py36-py"
  },
  "language_info": {
   "codemirror_mode": {
    "name": "ipython",
    "version": 3
   },
   "file_extension": ".py",
   "mimetype": "text/x-python",
   "name": "python",
   "nbconvert_exporter": "python",
   "pygments_lexer": "ipython3",
   "version": "3.6.7"
  }
 },
 "nbformat": 4,
 "nbformat_minor": 2
}
