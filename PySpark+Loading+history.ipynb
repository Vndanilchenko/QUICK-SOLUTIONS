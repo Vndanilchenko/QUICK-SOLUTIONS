{
 "cells": [
  {
   "cell_type": "code",
   "execution_count": null,
   "metadata": {
    "collapsed": true
   },
   "outputs": [],
   "source": [
    "%%configure -f\n",
    "{\"conf\": {\"spark.driver.extraClassPath\": \"/hadoop/smartdata/lib/spark-avro_2.11-2.4.0.cloudera2.jar\",\n",
    "          \"spark.executor.extraClassPath\": \"/hadoop/smartdata/lib/spark-avro_2.11-2.4.0.cloudera2.jar\"\n",
    "                   },\n",
    " \"proxyUser\": \"username\"\n",
    "}"
   ]
  },
  {
   "cell_type": "code",
   "execution_count": null,
   "metadata": {
    "collapsed": true
   },
   "outputs": [],
   "source": [
    "for i in range(1, 5):\n",
    "    print('hello')"
   ]
  },
  {
   "cell_type": "code",
   "execution_count": null,
   "metadata": {
    "collapsed": true
   },
   "outputs": [],
   "source": [
    "df = spark.read.format(\"com.databricks.spark.avro\").option(\"header\",\"true\").load(\"/*\")\n",
    "df.show(3)"
   ]
  },
  {
   "cell_type": "code",
   "execution_count": 32,
   "metadata": {},
   "outputs": [
    {
     "name": "stdout",
     "output_type": "stream",
     "text": [
      "37817"
     ]
    }
   ],
   "source": [
    "# посчитаем количество строк\n",
    "df.count()"
   ]
  },
  {
   "cell_type": "code",
   "execution_count": null,
   "metadata": {
    "collapsed": true
   },
   "outputs": [],
   "source": [
    "# посмотрим типы поля\n",
    "df.printSchema()"
   ]
  },
  {
   "cell_type": "code",
   "execution_count": 34,
   "metadata": {},
   "outputs": [
    {
     "name": "stdout",
     "output_type": "stream",
     "text": [
      "+-------+--------------------+\n",
      "|summary|             message|\n",
      "+-------+--------------------+\n",
      "|  count|               37817|\n",
      "|   mean|1.586374255162066...|\n",
      "| stddev|8.087341974639279...|\n",
      "|    min|                    |\n",
      "|    max|🤦🏽‍♀️ определит...|\n",
      "+-------+--------------------+"
     ]
    }
   ],
   "source": [
    "df.describe(\"message\").show()"
   ]
  },
  {
   "cell_type": "code",
   "execution_count": null,
   "metadata": {
    "collapsed": true
   },
   "outputs": [],
   "source": [
    "# выберем топ 20 сообщений\n",
    "df.select(\"messageid\", \"message\", \"operatorid\").show()"
   ]
  },
  {
   "cell_type": "code",
   "execution_count": null,
   "metadata": {
    "collapsed": true
   },
   "outputs": [],
   "source": [
    "# отфильтруем по оператору с номером 176283 (чат-бот)\n",
    "df.select(\"messageid\", \"message\").filter(\"operatorid==176283\").show()"
   ]
  },
  {
   "cell_type": "code",
   "execution_count": null,
   "metadata": {
    "collapsed": true
   },
   "outputs": [],
   "source": [
    "df.createOrReplaceTempView(\"table1\")\n",
    "df2 = spark.sql(\"SELECT messageid, message from table1 limit 20\")\n",
    "df2.collect()"
   ]
  },
  {
   "cell_type": "code",
   "execution_count": null,
   "metadata": {
    "collapsed": true
   },
   "outputs": [],
   "source": [
    "# отобразим в табличном формате\n",
    "df2=spark.sql(\"SELECT messageid, message from table1 limit 20\")\n",
    "df2.show()"
   ]
  },
  {
   "cell_type": "code",
   "execution_count": null,
   "metadata": {
    "collapsed": true
   },
   "outputs": [],
   "source": [
    "# выведем количество однотипных ответов бота\n",
    "spark.sql(\"SELECT message as col1, count('') as cnt \\\n",
    "          from table1 \\\n",
    "          where operatorid=176283 \\\n",
    "          group by message \\\n",
    "          order by cnt desc \\\n",
    "          limit 20\").show()"
   ]
  },
  {
   "cell_type": "markdown",
   "metadata": {
    "collapsed": true
   },
   "source": [
    "сохраним"
   ]
  },
  {
   "cell_type": "code",
   "execution_count": 40,
   "metadata": {
    "collapsed": true
   },
   "outputs": [],
   "source": [
    "%%spark -o df\n",
    "df = spark.read.format(\"com.databricks.spark.avro\").option(\"header\",\"true\").load(\"/../part-m-00001.avro\")"
   ]
  },
  {
   "cell_type": "code",
   "execution_count": 42,
   "metadata": {
    "collapsed": true
   },
   "outputs": [],
   "source": [
    "%%local\n",
    "df.to_csv('test.csv')"
   ]
  },
  {
   "cell_type": "code",
   "execution_count": 13,
   "metadata": {
    "collapsed": true
   },
   "outputs": [],
   "source": [
    "# df.repartition(1).write.format(\"com.databricks.spark.csv\").save(\"fileOutput_names.csv\",header = 'true')"
   ]
  }
 ],
 "metadata": {
  "kernelspec": {
   "display_name": "PySpark",
   "language": "",
   "name": "pysparkkernel"
  },
  "language_info": {
   "codemirror_mode": {
    "name": "python",
    "version": 2
   },
   "mimetype": "text/x-python",
   "name": "pyspark",
   "pygments_lexer": "python2"
  }
 },
 "nbformat": 4,
 "nbformat_minor": 2
}
