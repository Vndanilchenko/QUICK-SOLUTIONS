{
 "cells": [
  {
   "cell_type": "markdown",
   "metadata": {},
   "source": [
    "# Imbalanced binary classification and custom metrics"
   ]
  },
  {
   "cell_type": "markdown",
   "metadata": {},
   "source": [
    "Данильченко Вадим"
   ]
  },
  {
   "cell_type": "code",
   "execution_count": 1,
   "metadata": {},
   "outputs": [
    {
     "name": "stderr",
     "output_type": "stream",
     "text": [
      "Using TensorFlow backend.\n"
     ]
    }
   ],
   "source": [
    "from collections import Counter\n",
    "from sklearn.datasets import make_classification\n",
    "from imblearn.over_sampling import RandomOverSampler\n",
    "import numpy as np\n",
    "import pandas as pd\n",
    "from tqdm import trange\n",
    "from sklearn.tree import DecisionTreeClassifier\n",
    "from sklearn.model_selection import train_test_split"
   ]
  },
  {
   "cell_type": "markdown",
   "metadata": {},
   "source": [
    "создадим класс, вычисляющий основные метрики качетсва классификации"
   ]
  },
  {
   "cell_type": "code",
   "execution_count": 2,
   "metadata": {},
   "outputs": [],
   "source": [
    "class Calculate_metrics:\n",
    "    \n",
    "    def __init__(self, y_true, y_pred):\n",
    "        self.y_true = y_true\n",
    "        self.y_pred = y_pred\n",
    "        self.cm = self.confusion_matrix()\n",
    "\n",
    "    # функция считает матрицу ошибок\n",
    "    def confusion_matrix(self):\n",
    "        cm = pd.DataFrame(index=['pred_true', 'pred_false'], columns=['true', 'false'], data=0)\n",
    "\n",
    "        for i in trange(len(self.y_true)):\n",
    "            if self.y_true[i]==1:\n",
    "                if self.y_pred[i]==1:\n",
    "                    cm.loc['pred_true', 'true'] += 1\n",
    "                else:\n",
    "                    cm.loc['pred_false', 'true'] += 1\n",
    "            elif self.y_true[i]==0:\n",
    "                if self.y_pred[i]==1:\n",
    "                    cm.loc['pred_true', 'false'] += 1\n",
    "                else:\n",
    "                    cm.loc['pred_false', 'false'] += 1\n",
    "        print('confusion matrix ready')\n",
    "        return cm\n",
    "    \n",
    "    # функция возвращает метрику precision(точность)\n",
    "    def precision(self):\n",
    "        return self.cm.loc['pred_true', 'true']/(self.cm.loc['pred_true', 'true'] + self.cm.loc['pred_true', 'false'])\n",
    "\n",
    "    # функция возвращает метрику recall(полнота)\n",
    "    def recall(self):\n",
    "        return self.cm.loc['pred_true', 'true']/(self.cm.loc['pred_true', 'true'] + self.cm.loc['pred_false', 'true'])\n",
    "    \n",
    "    # возвращает значение f1-меры\n",
    "    def f1_score(self):\n",
    "        precision = self.precision()\n",
    "        recall = self.recall()\n",
    "        return 2 * ((precision * recall) / (precision + recall))\n",
    "\n",
    "    # точность\n",
    "    def accuracy_score(self):\n",
    "        return sum((1 if self.y_true[i]==self.y_pred[i] else 0) for i,_ in enumerate(self.y_pred))/len(self.y_pred)"
   ]
  },
  {
   "cell_type": "markdown",
   "metadata": {},
   "source": [
    "посмотрим на результаты классификации на исходных данных"
   ]
  },
  {
   "cell_type": "code",
   "execution_count": 3,
   "metadata": {},
   "outputs": [
    {
     "name": "stdout",
     "output_type": "stream",
     "text": [
      "Original dataset shape Counter({1: 950, 0: 50})\n"
     ]
    }
   ],
   "source": [
    "X, y = make_classification(n_classes=2, class_sep=2,\n",
    "    weights=[0.05, 0.95], n_informative=3, n_redundant=1, flip_y=0,\n",
    "    n_features=20, n_clusters_per_class=1, n_samples=1000, random_state=10)\n",
    "print('Original dataset shape %s' % Counter(y))"
   ]
  },
  {
   "cell_type": "code",
   "execution_count": 4,
   "metadata": {},
   "outputs": [],
   "source": [
    "# разделим данные на тренировочную и тестовую выборки\n",
    "x_train, x_test, y_train, y_test = train_test_split(X, y, test_size=0.2, random_state=777)"
   ]
  },
  {
   "cell_type": "code",
   "execution_count": 5,
   "metadata": {},
   "outputs": [],
   "source": [
    "# обучим классификатор\n",
    "clf = DecisionTreeClassifier(random_state=777)\n",
    "clf.fit(x_train, y_train)\n",
    "y_pred = clf.predict_proba(x_test)"
   ]
  },
  {
   "cell_type": "code",
   "execution_count": 6,
   "metadata": {},
   "outputs": [
    {
     "name": "stdout",
     "output_type": "stream",
     "text": [
      "результат классификации по исходным данным\n"
     ]
    },
    {
     "name": "stderr",
     "output_type": "stream",
     "text": [
      "100%|██████████████████████████████████████████████████████████████████████████████| 200/200 [00:00<00:00, 3399.02it/s]\n"
     ]
    },
    {
     "name": "stdout",
     "output_type": "stream",
     "text": [
      "confusion matrix ready\n",
      "            true  false\n",
      "pred_true    193      0\n",
      "pred_false     1      6 \n",
      "--------------------------------------------------\n",
      "precision:  1.0 \n",
      "recall:  0.9948453608247423 \n",
      "f1_score:  0.9974160206718347 \n",
      "accuracy_score:  0.995\n"
     ]
    }
   ],
   "source": [
    "# выведем метрики\n",
    "print('результат классификации по исходным данным')\n",
    "metrics = Calculate_metrics(y_test, y_pred[:,1])\n",
    "print(metrics.cm, '\\n{:-^50}'.format(''))\n",
    "print('precision: ', metrics.precision(),\n",
    "     '\\nrecall: ', metrics.recall(),\n",
    "     '\\nf1_score: ', metrics.f1_score(),\n",
    "     '\\naccuracy_score: ', metrics.accuracy_score(),\n",
    "     )"
   ]
  },
  {
   "cell_type": "markdown",
   "metadata": {},
   "source": [
    "посмотрим на результат классфикации после увеличения миноритарного класса"
   ]
  },
  {
   "cell_type": "code",
   "execution_count": 7,
   "metadata": {},
   "outputs": [
    {
     "name": "stdout",
     "output_type": "stream",
     "text": [
      "Resampled dataset shape Counter({0: 950, 1: 950})\n"
     ]
    }
   ],
   "source": [
    "# аугментируем целевой класс\n",
    "ros = RandomOverSampler(random_state=42)\n",
    "X_res, y_res = ros.fit_resample(X, y)\n",
    "print('Resampled dataset shape %s' % Counter(y_res))"
   ]
  },
  {
   "cell_type": "code",
   "execution_count": 8,
   "metadata": {},
   "outputs": [],
   "source": [
    "x_train, x_test, y_train, y_test = train_test_split(X_res, y_res, test_size=0.2, random_state=777)\n",
    "clf = DecisionTreeClassifier(random_state=777)\n",
    "clf.fit(x_train, y_train)\n",
    "y_pred = clf.predict_proba(x_test)"
   ]
  },
  {
   "cell_type": "code",
   "execution_count": 9,
   "metadata": {},
   "outputs": [
    {
     "name": "stdout",
     "output_type": "stream",
     "text": [
      "результат классификации после аугментации\n"
     ]
    },
    {
     "name": "stderr",
     "output_type": "stream",
     "text": [
      "100%|██████████████████████████████████████████████████████████████████████████████| 380/380 [00:00<00:00, 3699.21it/s]\n"
     ]
    },
    {
     "name": "stdout",
     "output_type": "stream",
     "text": [
      "confusion matrix ready\n",
      "            true  false\n",
      "pred_true    193      0\n",
      "pred_false     0    187 \n",
      "--------------------------------------------------\n",
      "precision:  1.0 \n",
      "recall:  1.0 \n",
      "f1_score:  1.0 \n",
      "accuracy_score:  1.0\n"
     ]
    }
   ],
   "source": [
    "# выведем метрики\n",
    "print('результат классификации после аугментации')\n",
    "metrics = Calculate_metrics(y_test, y_pred[:,1])\n",
    "print(metrics.cm, '\\n{:-^50}'.format(''))\n",
    "print('precision: ', metrics.precision(),\n",
    "     '\\nrecall: ', metrics.recall(),\n",
    "     '\\nf1_score: ', metrics.f1_score(),\n",
    "     '\\naccuracy_score: ', metrics.accuracy_score(),\n",
    "     )"
   ]
  }
 ],
 "metadata": {
  "kernelspec": {
   "display_name": "seq2seq",
   "language": "python",
   "name": "seq2seq"
  },
  "language_info": {
   "codemirror_mode": {
    "name": "ipython",
    "version": 3
   },
   "file_extension": ".py",
   "mimetype": "text/x-python",
   "name": "python",
   "nbconvert_exporter": "python",
   "pygments_lexer": "ipython3",
   "version": "3.7.4"
  }
 },
 "nbformat": 4,
 "nbformat_minor": 2
}
