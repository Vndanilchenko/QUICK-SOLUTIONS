{
 "cells": [
  {
   "cell_type": "markdown",
   "metadata": {},
   "source": [
    "# ПАМЯТКА ПО ПОДКЛЮЧЕНИЮ К БД MS SQL"
   ]
  },
  {
   "cell_type": "code",
   "execution_count": null,
   "metadata": {},
   "outputs": [],
   "source": [
    "# выполним запрос подключения к БД для\n",
    "\n",
    "# ! pip install pyodbc\n",
    "\n",
    "import pyodbc\n",
    "import pandas.io.sql as psql\n",
    "\n",
    "cnxn = pyodbc.connect(\"Driver={SQL Server Native Client 11.0};\"\n",
    "\n",
    "                      \"Server=<сервер>;\"\n",
    "\n",
    "                      \"Database=<БД>;\"\n",
    "\n",
    "                      \"Trusted_Connection=yes;\")\n",
    "\n",
    " \n",
    "\n",
    "sql = \"SELECT TOP 50 * FROM <БД>\"\n",
    "\n",
    "df_sql = pd.read_sql(sql, cnxn)\n",
    "\n",
    "df_sql.head()"
   ]
  }
 ],
 "metadata": {
  "kernelspec": {
   "display_name": "Python 3",
   "language": "python",
   "name": "python3"
  },
  "language_info": {
   "codemirror_mode": {
    "name": "ipython",
    "version": 3
   },
   "file_extension": ".py",
   "mimetype": "text/x-python",
   "name": "python",
   "nbconvert_exporter": "python",
   "pygments_lexer": "ipython3",
   "version": "3.7.0"
  }
 },
 "nbformat": 4,
 "nbformat_minor": 2
}
